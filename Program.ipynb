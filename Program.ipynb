{
 "cells": [
  {
   "cell_type": "code",
   "execution_count": 4,
   "metadata": {},
   "outputs": [],
   "source": [
    "import sys\n",
    "from PyQt5.QtWidgets import *\n",
    "from PyQt5.QtGui import *\n",
    "import matplotlib.pyplot as plt\n",
    "from matplotlib.backends.backend_qt5agg import FigureCanvasQTAgg as FigureCanvas"
   ]
  },
  {
   "cell_type": "code",
   "execution_count": 5,
   "metadata": {},
   "outputs": [],
   "source": [
    "class MyWindow(QWidget):\n",
    "    def __init__(self):\n",
    "        super().__init__()\n",
    "        self.setupUI()\n",
    "        \n",
    "    def setupUI(self):\n",
    "        self.setGeometry(600, 200, 1200, 600)\n",
    "        self.setWindowTitle(\"PyChart Viewer v0.1\")\n",
    "        self.setWindowIcon(QIcon('icon.png'))\n",
    "        \n",
    "        self.lineEdit = QLineEdit()\n",
    "        self.pushButton = QPushButton(\"차트 그리기\")\n",
    "        self.pushButton.clicked.connect(self.pushButtonClicked)\n",
    "        \n",
    "        self.fig = plt.Figure()\n",
    "        self.canvas = FigureCanvas(self.fig)\n",
    "\n",
    "        leftLayout = QVBoxLayout()\n",
    "        leftLayout.addWidget(self.canvas)\n",
    "\n",
    "        # Right Layout\n",
    "        rightLayout = QVBoxLayout()\n",
    "        rightLayout.addWidget(self.lineEdit)\n",
    "        rightLayout.addWidget(self.pushButton)\n",
    "        rightLayout.addStretch(1)\n",
    "\n",
    "        layout = QHBoxLayout()\n",
    "        layout.addLayout(leftLayout)\n",
    "        layout.addLayout(rightLayout)\n",
    "        layout.setStretchFactor(leftLayout, 1)\n",
    "        layout.setStretchFactor(rightLayout, 0)\n",
    "\n",
    "        self.setLayout(layout)\n",
    "\n",
    "    def pushButtonClicked(self):\n",
    "        print(self.lineEdit.text())\n",
    "\n",
    "if __name__ == \"__main__\":\n",
    "    app = QApplication(sys.argv)\n",
    "    window = MyWindow()\n",
    "    window.show()\n",
    "    app.exec_()"
   ]
  },
  {
   "cell_type": "code",
   "execution_count": null,
   "metadata": {},
   "outputs": [],
   "source": []
  }
 ],
 "metadata": {
  "kernelspec": {
   "display_name": "Python 3",
   "language": "python",
   "name": "python3"
  },
  "language_info": {
   "codemirror_mode": {
    "name": "ipython",
    "version": 3
   },
   "file_extension": ".py",
   "mimetype": "text/x-python",
   "name": "python",
   "nbconvert_exporter": "python",
   "pygments_lexer": "ipython3",
   "version": "3.5.2"
  }
 },
 "nbformat": 4,
 "nbformat_minor": 2
}
